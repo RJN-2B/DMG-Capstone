{
 "cells": [
  {
   "cell_type": "markdown",
   "metadata": {},
   "source": [
    "### Deep Music Generation\n",
    "Roland Nguyen - Senior, Mathematics and Computer Science\n",
    "\n",
    "Chanho Lim - Senior, Mathematics and Computer Science"
   ]
  },
  {
   "cell_type": "markdown",
   "metadata": {},
   "source": [
    "----------------------------------\n",
    "### Abstract\n",
    "\n",
    "#### Deep Music Generation is a deep learning project with two sides.\n",
    "#### Firstly, to generate polyphonic music using deep learning models that replicate the style of composers such as Bach and Handel with variety.\n",
    "#### Secondly, to create metrics that evaluate the quality of generated samples and the performance of the model.\n",
    "-------------------------------"
   ]
  },
  {
   "cell_type": "markdown",
   "metadata": {},
   "source": [
    "This is the homepage of our Capstone project.\n",
    "\n",
    "You can find our project poster [here](https://github.com/RJN-2B/DMG-Capstone/blob/master/DeepMusicGenerationPoster.pdf).\n"
   ]
  },
  {
   "cell_type": "markdown",
   "metadata": {},
   "source": [
    "-----------------------------------------------\n",
    "A page displaying the preprocessing of our MIDI data can be found [here](https://github.com/RJN-2B/DMG-Capstone/blob/master/preprocessing.html).\n",
    "\n",
    "---------------------------------\n",
    "A page displaying the training of the LSTM-RNN classifier model can be found [here](https://github.com/RJN-2B/DMG-Capstone/blob/master/analysis.html), trained using the following 8 preprocessed composers: \n",
    "Bach, Beethoven, Chopin, Handel, Haydn, Hays, Thomas, and Webster.\n",
    "We achieved a high of 0.803 accuracy.\n",
    "\n",
    "-----------------------------------\n",
    "A page displaying the Inception score analysis of our classifier model can be found [here](https://rjn-2b.github.io/DMG-Capstone/IS.html). \n",
    "We achieved an Inception score of approximately 5.8 out of 8.\n",
    "\n",
    "-----------------------------------------"
   ]
  },
  {
   "cell_type": "markdown",
   "metadata": {},
   "source": [
    "#### You can view the repository [here](https://github.com/RJN-2B/DMG-Capstone)."
   ]
  }
 ],
 "metadata": {
  "kernelspec": {
   "display_name": "Python 3",
   "language": "python",
   "name": "python3"
  },
  "language_info": {
   "codemirror_mode": {
    "name": "ipython",
    "version": 3
   },
   "file_extension": ".py",
   "mimetype": "text/x-python",
   "name": "python",
   "nbconvert_exporter": "python",
   "pygments_lexer": "ipython3",
   "version": "3.7.5"
  }
 },
 "nbformat": 4,
 "nbformat_minor": 2
}
