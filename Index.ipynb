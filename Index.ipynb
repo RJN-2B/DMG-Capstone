{
 "cells": [
  {
   "cell_type": "markdown",
   "metadata": {},
   "source": [
    "Capstone Analysis\\\n",
    "Roland Nguyen - Senior, Mathematics and Computer Science\\\n",
    "Chanho Lim - Senior, Mathematics and Computer Science\n",
    "\n",
    "Abstract\n",
    "\n",
    "## Deep Music Generation is a deep learning project with two sides.\n",
    "## Firstly, to generate polyphonic music using deep learning models that replicate the style of composers such as Bach and Handel with variety.\n",
    "Secondly, to create metrics that evaluate the quality of generated samples and the performance of the model.\n",
    "----------------------------------------------------------------------------------------------------------------------------------------\n",
    "\n"
   ]
  },
  {
   "cell_type": "markdown",
   "metadata": {},
   "source": [
    "This is the homepage of our Capstone project.\n",
    "Below is the training and analysis of our LSTM-RNN classifier on classical MIDI music. We've opted to use the following composers: Bach, Beethoven, Chopin, Handel, Haydn, Hays, Thomas, and Webster.\n"
   ]
  }
 ],
 "metadata": {
  "kernelspec": {
   "display_name": "Python 3",
   "language": "python",
   "name": "python3"
  },
  "language_info": {
   "codemirror_mode": {
    "name": "ipython",
    "version": 3
   },
   "file_extension": ".py",
   "mimetype": "text/x-python",
   "name": "python",
   "nbconvert_exporter": "python",
   "pygments_lexer": "ipython3",
   "version": "3.7.5"
  }
 },
 "nbformat": 4,
 "nbformat_minor": 2
}
